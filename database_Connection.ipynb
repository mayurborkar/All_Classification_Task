{
 "cells": [
  {
   "cell_type": "code",
   "execution_count": 1,
   "metadata": {},
   "outputs": [],
   "source": [
    "from application_logging.logger import App_Logger\n",
    "import pandas as pd\n",
    "import pymongo\n",
    "import json"
   ]
  },
  {
   "cell_type": "code",
   "execution_count": 2,
   "metadata": {},
   "outputs": [],
   "source": [
    "logger = App_Logger('logFiles/dabaseOpeartion.log')"
   ]
  },
  {
   "cell_type": "code",
   "execution_count": 3,
   "metadata": {},
   "outputs": [],
   "source": [
    "class dbOperation:\n",
    "    \n",
    "    def __init__(self):\n",
    "        self.path         = 'mongodb://127.0.0.1:27017/'\n",
    "        self.datasetPath  = 'Datasets_Healthy_Older_People/Combine.csv'\n",
    "        self.databaseName = 'Datasets_Healthy_Older_People'\n",
    "        self.tableName    = 'People'\n",
    "        \n",
    "    def createConnection(self):\n",
    "        \n",
    "        try:\n",
    "            logger.info('INFO','Trying To Connect With MongoDB')\n",
    "            client = pymongo.MongoClient(self.path)\n",
    "            logger.info('INFO','Conection Is Getting Created')\n",
    "            \n",
    "        except Exception as e:\n",
    "            raise Exception(f\"(createConnection)-Something Went Wrong With Fucntion \\n\" + str(e))\n",
    "            \n",
    "    def createDatabse(self):\n",
    "        \n",
    "        try:\n",
    "            logger.info('INFO','Trying To Create The Datbase Inside MongoDB')\n",
    "            client = pymongo.MongoClient(self.path)\n",
    "            my_db = client[self.databaseName]\n",
    "            logger.info('INFO','Database Created Inside The MongoDB')\n",
    "            \n",
    "        except Exception as e:\n",
    "            raise Exception(f\"(createDatabse)-Something Went Wrong With Fucntion \\n\" + str(e))\n",
    "            \n",
    "    def createTable(self):\n",
    "        \n",
    "        try:\n",
    "            \n",
    "            logger.info('INFO','Trying To Create The Table Inside Datbase')\n",
    "            client = pymongo.MongoClient(self.path)\n",
    "            db = client[self.databaseName]\n",
    "            record = db[self.tableName]\n",
    "            logger.info('INFO','Table Is Created Inside The Database')\n",
    "            \n",
    "        except Exception as e:\n",
    "            raise Exception(f\"(createTable)-Something Went Wrong With Fucntion \\n\" + str(e))\n",
    "            \n",
    "    def insertIntoTable(self):\n",
    "        \n",
    "        try:\n",
    "            \n",
    "            logger.info('INFO','Trying To Insert Record In The Table Which Is created Inside The Datbase')\n",
    "            client = pymongo.MongoClient(self.path)\n",
    "            db = client[self.databaseName]\n",
    "            record = db[self.tableName]\n",
    "            df = pd.read_csv(self.datasetPath)\n",
    "            df.drop(['Unnamed: 0'],axis=1,inplace=True)\n",
    "            collection = json.loads(df.T.to_json()).values()\n",
    "            record.insert_many(collection)\n",
    "            logger.info('INFO','All The Record Insert Into The Table')\n",
    "            \n",
    "        except Exception as e:\n",
    "            raise Exception(f\"(createTable)-Something Went Wrong With Fucntion \\n\" + str(e))"
   ]
  },
  {
   "cell_type": "code",
   "execution_count": 4,
   "metadata": {},
   "outputs": [],
   "source": [
    "database = dbOperation()"
   ]
  },
  {
   "cell_type": "code",
   "execution_count": 5,
   "metadata": {},
   "outputs": [],
   "source": [
    "database.createConnection()"
   ]
  },
  {
   "cell_type": "code",
   "execution_count": 6,
   "metadata": {},
   "outputs": [],
   "source": [
    "database.createDatabse()"
   ]
  },
  {
   "cell_type": "code",
   "execution_count": 7,
   "metadata": {},
   "outputs": [],
   "source": [
    "database.createTable()"
   ]
  },
  {
   "cell_type": "code",
   "execution_count": 8,
   "metadata": {},
   "outputs": [],
   "source": [
    "database.insertIntoTable()"
   ]
  },
  {
   "cell_type": "code",
   "execution_count": null,
   "metadata": {},
   "outputs": [],
   "source": []
  }
 ],
 "metadata": {
  "kernelspec": {
   "display_name": "Python 3",
   "language": "python",
   "name": "python3"
  },
  "language_info": {
   "codemirror_mode": {
    "name": "ipython",
    "version": 3
   },
   "file_extension": ".py",
   "mimetype": "text/x-python",
   "name": "python",
   "nbconvert_exporter": "python",
   "pygments_lexer": "ipython3",
   "version": "3.8.5"
  }
 },
 "nbformat": 4,
 "nbformat_minor": 4
}
