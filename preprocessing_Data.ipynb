{
 "cells": [
  {
   "cell_type": "code",
   "execution_count": 1,
   "metadata": {},
   "outputs": [],
   "source": [
    "from sklearn.preprocessing import StandardScaler\n",
    "from pandas_profiling import ProfileReport\n",
    "import matplotlib.pyplot as plt\n",
    "import seaborn as sns\n",
    "import pandas as pd\n",
    "import numpy as np\n",
    "import pickle"
   ]
  },
  {
   "cell_type": "code",
   "execution_count": 2,
   "metadata": {},
   "outputs": [],
   "source": [
    "pd.options.mode.chained_assignment = None"
   ]
  },
  {
   "cell_type": "code",
   "execution_count": 3,
   "metadata": {},
   "outputs": [
    {
     "data": {
      "text/html": [
       "<div>\n",
       "<style scoped>\n",
       "    .dataframe tbody tr th:only-of-type {\n",
       "        vertical-align: middle;\n",
       "    }\n",
       "\n",
       "    .dataframe tbody tr th {\n",
       "        vertical-align: top;\n",
       "    }\n",
       "\n",
       "    .dataframe thead th {\n",
       "        text-align: right;\n",
       "    }\n",
       "</style>\n",
       "<table border=\"1\" class=\"dataframe\">\n",
       "  <thead>\n",
       "    <tr style=\"text-align: right;\">\n",
       "      <th></th>\n",
       "      <th>Time</th>\n",
       "      <th>Acceleration_frontal</th>\n",
       "      <th>Acceleration_vertical</th>\n",
       "      <th>Acceleration_lateral</th>\n",
       "      <th>Antenna</th>\n",
       "      <th>RSSI</th>\n",
       "      <th>Phase</th>\n",
       "      <th>Frequency</th>\n",
       "      <th>Label</th>\n",
       "    </tr>\n",
       "  </thead>\n",
       "  <tbody>\n",
       "    <tr>\n",
       "      <th>0</th>\n",
       "      <td>0.00</td>\n",
       "      <td>0.27203</td>\n",
       "      <td>1.00820</td>\n",
       "      <td>-0.082102</td>\n",
       "      <td>1</td>\n",
       "      <td>-63.5</td>\n",
       "      <td>2.4252</td>\n",
       "      <td>924.25</td>\n",
       "      <td>1</td>\n",
       "    </tr>\n",
       "    <tr>\n",
       "      <th>1</th>\n",
       "      <td>0.50</td>\n",
       "      <td>0.27203</td>\n",
       "      <td>1.00820</td>\n",
       "      <td>-0.082102</td>\n",
       "      <td>1</td>\n",
       "      <td>-63.0</td>\n",
       "      <td>4.7369</td>\n",
       "      <td>921.75</td>\n",
       "      <td>1</td>\n",
       "    </tr>\n",
       "    <tr>\n",
       "      <th>2</th>\n",
       "      <td>1.50</td>\n",
       "      <td>0.44791</td>\n",
       "      <td>0.91636</td>\n",
       "      <td>-0.013684</td>\n",
       "      <td>1</td>\n",
       "      <td>-63.5</td>\n",
       "      <td>3.0311</td>\n",
       "      <td>923.75</td>\n",
       "      <td>1</td>\n",
       "    </tr>\n",
       "    <tr>\n",
       "      <th>3</th>\n",
       "      <td>1.75</td>\n",
       "      <td>0.44791</td>\n",
       "      <td>0.91636</td>\n",
       "      <td>-0.013684</td>\n",
       "      <td>1</td>\n",
       "      <td>-63.0</td>\n",
       "      <td>2.0371</td>\n",
       "      <td>921.25</td>\n",
       "      <td>1</td>\n",
       "    </tr>\n",
       "    <tr>\n",
       "      <th>4</th>\n",
       "      <td>2.50</td>\n",
       "      <td>0.34238</td>\n",
       "      <td>0.96229</td>\n",
       "      <td>-0.059296</td>\n",
       "      <td>1</td>\n",
       "      <td>-63.5</td>\n",
       "      <td>5.8920</td>\n",
       "      <td>920.25</td>\n",
       "      <td>1</td>\n",
       "    </tr>\n",
       "  </tbody>\n",
       "</table>\n",
       "</div>"
      ],
      "text/plain": [
       "   Time  Acceleration_frontal  Acceleration_vertical  Acceleration_lateral  \\\n",
       "0  0.00               0.27203                1.00820             -0.082102   \n",
       "1  0.50               0.27203                1.00820             -0.082102   \n",
       "2  1.50               0.44791                0.91636             -0.013684   \n",
       "3  1.75               0.44791                0.91636             -0.013684   \n",
       "4  2.50               0.34238                0.96229             -0.059296   \n",
       "\n",
       "   Antenna  RSSI   Phase  Frequency  Label  \n",
       "0        1 -63.5  2.4252     924.25      1  \n",
       "1        1 -63.0  4.7369     921.75      1  \n",
       "2        1 -63.5  3.0311     923.75      1  \n",
       "3        1 -63.0  2.0371     921.25      1  \n",
       "4        1 -63.5  5.8920     920.25      1  "
      ]
     },
     "execution_count": 3,
     "metadata": {},
     "output_type": "execute_result"
    }
   ],
   "source": [
    "df = pd.read_csv('Datasets_Healthy_Older_People/Combine.csv')\n",
    "df.drop(['Unnamed: 0'],axis=1,inplace=True)\n",
    "df.head()"
   ]
  },
  {
   "cell_type": "code",
   "execution_count": 4,
   "metadata": {},
   "outputs": [],
   "source": [
    "#Report = ProfileReport(df)\n",
    "#Report.to_widgets()"
   ]
  },
  {
   "cell_type": "code",
   "execution_count": 5,
   "metadata": {},
   "outputs": [],
   "source": [
    "#Report.to_file('Report.html')"
   ]
  },
  {
   "cell_type": "code",
   "execution_count": 6,
   "metadata": {
    "scrolled": true
   },
   "outputs": [
    {
     "data": {
      "text/html": [
       "<div>\n",
       "<style scoped>\n",
       "    .dataframe tbody tr th:only-of-type {\n",
       "        vertical-align: middle;\n",
       "    }\n",
       "\n",
       "    .dataframe tbody tr th {\n",
       "        vertical-align: top;\n",
       "    }\n",
       "\n",
       "    .dataframe thead th {\n",
       "        text-align: right;\n",
       "    }\n",
       "</style>\n",
       "<table border=\"1\" class=\"dataframe\">\n",
       "  <thead>\n",
       "    <tr style=\"text-align: right;\">\n",
       "      <th></th>\n",
       "      <th>Time</th>\n",
       "      <th>Acceleration_frontal</th>\n",
       "      <th>Acceleration_vertical</th>\n",
       "      <th>Acceleration_lateral</th>\n",
       "      <th>Antenna</th>\n",
       "      <th>RSSI</th>\n",
       "      <th>Phase</th>\n",
       "      <th>Frequency</th>\n",
       "      <th>Label</th>\n",
       "    </tr>\n",
       "  </thead>\n",
       "  <tbody>\n",
       "    <tr>\n",
       "      <th>0</th>\n",
       "      <td>0.00</td>\n",
       "      <td>0.27203</td>\n",
       "      <td>1.00820</td>\n",
       "      <td>-0.082102</td>\n",
       "      <td>1</td>\n",
       "      <td>-63.5</td>\n",
       "      <td>2.4252</td>\n",
       "      <td>924.25</td>\n",
       "      <td>1</td>\n",
       "    </tr>\n",
       "    <tr>\n",
       "      <th>1</th>\n",
       "      <td>0.50</td>\n",
       "      <td>0.27203</td>\n",
       "      <td>1.00820</td>\n",
       "      <td>-0.082102</td>\n",
       "      <td>1</td>\n",
       "      <td>-63.0</td>\n",
       "      <td>4.7369</td>\n",
       "      <td>921.75</td>\n",
       "      <td>1</td>\n",
       "    </tr>\n",
       "    <tr>\n",
       "      <th>2</th>\n",
       "      <td>1.50</td>\n",
       "      <td>0.44791</td>\n",
       "      <td>0.91636</td>\n",
       "      <td>-0.013684</td>\n",
       "      <td>1</td>\n",
       "      <td>-63.5</td>\n",
       "      <td>3.0311</td>\n",
       "      <td>923.75</td>\n",
       "      <td>1</td>\n",
       "    </tr>\n",
       "    <tr>\n",
       "      <th>3</th>\n",
       "      <td>1.75</td>\n",
       "      <td>0.44791</td>\n",
       "      <td>0.91636</td>\n",
       "      <td>-0.013684</td>\n",
       "      <td>1</td>\n",
       "      <td>-63.0</td>\n",
       "      <td>2.0371</td>\n",
       "      <td>921.25</td>\n",
       "      <td>1</td>\n",
       "    </tr>\n",
       "    <tr>\n",
       "      <th>4</th>\n",
       "      <td>2.50</td>\n",
       "      <td>0.34238</td>\n",
       "      <td>0.96229</td>\n",
       "      <td>-0.059296</td>\n",
       "      <td>1</td>\n",
       "      <td>-63.5</td>\n",
       "      <td>5.8920</td>\n",
       "      <td>920.25</td>\n",
       "      <td>1</td>\n",
       "    </tr>\n",
       "    <tr>\n",
       "      <th>...</th>\n",
       "      <td>...</td>\n",
       "      <td>...</td>\n",
       "      <td>...</td>\n",
       "      <td>...</td>\n",
       "      <td>...</td>\n",
       "      <td>...</td>\n",
       "      <td>...</td>\n",
       "      <td>...</td>\n",
       "      <td>...</td>\n",
       "    </tr>\n",
       "    <tr>\n",
       "      <th>75123</th>\n",
       "      <td>444.00</td>\n",
       "      <td>0.90520</td>\n",
       "      <td>0.64076</td>\n",
       "      <td>-0.082102</td>\n",
       "      <td>1</td>\n",
       "      <td>-59.5</td>\n",
       "      <td>1.9574</td>\n",
       "      <td>922.25</td>\n",
       "      <td>2</td>\n",
       "    </tr>\n",
       "    <tr>\n",
       "      <th>75124</th>\n",
       "      <td>449.00</td>\n",
       "      <td>0.90520</td>\n",
       "      <td>0.64076</td>\n",
       "      <td>-0.082102</td>\n",
       "      <td>1</td>\n",
       "      <td>-59.0</td>\n",
       "      <td>6.2540</td>\n",
       "      <td>922.25</td>\n",
       "      <td>2</td>\n",
       "    </tr>\n",
       "    <tr>\n",
       "      <th>75125</th>\n",
       "      <td>451.50</td>\n",
       "      <td>0.42446</td>\n",
       "      <td>0.91636</td>\n",
       "      <td>-0.161920</td>\n",
       "      <td>1</td>\n",
       "      <td>-53.0</td>\n",
       "      <td>5.7156</td>\n",
       "      <td>922.25</td>\n",
       "      <td>4</td>\n",
       "    </tr>\n",
       "    <tr>\n",
       "      <th>75126</th>\n",
       "      <td>451.58</td>\n",
       "      <td>0.42446</td>\n",
       "      <td>0.91636</td>\n",
       "      <td>-0.161920</td>\n",
       "      <td>1</td>\n",
       "      <td>-52.0</td>\n",
       "      <td>5.8982</td>\n",
       "      <td>922.25</td>\n",
       "      <td>4</td>\n",
       "    </tr>\n",
       "    <tr>\n",
       "      <th>75127</th>\n",
       "      <td>452.25</td>\n",
       "      <td>0.58862</td>\n",
       "      <td>0.87042</td>\n",
       "      <td>-0.082102</td>\n",
       "      <td>1</td>\n",
       "      <td>-60.0</td>\n",
       "      <td>5.7033</td>\n",
       "      <td>925.75</td>\n",
       "      <td>4</td>\n",
       "    </tr>\n",
       "  </tbody>\n",
       "</table>\n",
       "<p>75126 rows × 9 columns</p>\n",
       "</div>"
      ],
      "text/plain": [
       "         Time  Acceleration_frontal  Acceleration_vertical  \\\n",
       "0        0.00               0.27203                1.00820   \n",
       "1        0.50               0.27203                1.00820   \n",
       "2        1.50               0.44791                0.91636   \n",
       "3        1.75               0.44791                0.91636   \n",
       "4        2.50               0.34238                0.96229   \n",
       "...       ...                   ...                    ...   \n",
       "75123  444.00               0.90520                0.64076   \n",
       "75124  449.00               0.90520                0.64076   \n",
       "75125  451.50               0.42446                0.91636   \n",
       "75126  451.58               0.42446                0.91636   \n",
       "75127  452.25               0.58862                0.87042   \n",
       "\n",
       "       Acceleration_lateral  Antenna  RSSI   Phase  Frequency  Label  \n",
       "0                 -0.082102        1 -63.5  2.4252     924.25      1  \n",
       "1                 -0.082102        1 -63.0  4.7369     921.75      1  \n",
       "2                 -0.013684        1 -63.5  3.0311     923.75      1  \n",
       "3                 -0.013684        1 -63.0  2.0371     921.25      1  \n",
       "4                 -0.059296        1 -63.5  5.8920     920.25      1  \n",
       "...                     ...      ...   ...     ...        ...    ...  \n",
       "75123             -0.082102        1 -59.5  1.9574     922.25      2  \n",
       "75124             -0.082102        1 -59.0  6.2540     922.25      2  \n",
       "75125             -0.161920        1 -53.0  5.7156     922.25      4  \n",
       "75126             -0.161920        1 -52.0  5.8982     922.25      4  \n",
       "75127             -0.082102        1 -60.0  5.7033     925.75      4  \n",
       "\n",
       "[75126 rows x 9 columns]"
      ]
     },
     "execution_count": 6,
     "metadata": {},
     "output_type": "execute_result"
    }
   ],
   "source": [
    "df_new = df.drop_duplicates()\n",
    "df_new"
   ]
  },
  {
   "cell_type": "code",
   "execution_count": 7,
   "metadata": {},
   "outputs": [
    {
     "data": {
      "text/plain": [
       "Time                     0\n",
       "Acceleration_frontal     0\n",
       "Acceleration_vertical    0\n",
       "Acceleration_lateral     0\n",
       "Antenna                  0\n",
       "RSSI                     0\n",
       "Phase                    0\n",
       "Frequency                0\n",
       "Label                    0\n",
       "dtype: int64"
      ]
     },
     "execution_count": 7,
     "metadata": {},
     "output_type": "execute_result"
    }
   ],
   "source": [
    "df_new.isnull().sum()"
   ]
  },
  {
   "cell_type": "code",
   "execution_count": 8,
   "metadata": {
    "scrolled": true
   },
   "outputs": [
    {
     "data": {
      "text/plain": [
       "<AxesSubplot:xlabel='Label', ylabel='count'>"
      ]
     },
     "execution_count": 8,
     "metadata": {},
     "output_type": "execute_result"
    },
    {
     "data": {
      "image/png": "[encoded data removed]",
      "text/plain": [
       "<Figure size 360x360 with 1 Axes>"
      ]
     },
     "metadata": {
      "needs_background": "light"
     },
     "output_type": "display_data"
    }
   ],
   "source": [
    "plt.figure(figsize=(5,5))\n",
    "sns.countplot(x='Label',data=df_new)"
   ]
  },
  {
   "cell_type": "code",
   "execution_count": 9,
   "metadata": {
    "scrolled": true
   },
   "outputs": [
    {
     "data": {
      "text/plain": [
       "<AxesSubplot:xlabel='Antenna', ylabel='count'>"
      ]
     },
     "execution_count": 9,
     "metadata": {},
     "output_type": "execute_result"
    },
    {
     "data": {
      "image/png": "[encoded data removed]",
      "text/plain": [
       "<Figure size 360x360 with 1 Axes>"
      ]
     },
     "metadata": {
      "needs_background": "light"
     },
     "output_type": "display_data"
    }
   ],
   "source": [
    "plt.figure(figsize=(5,5))\n",
    "sns.countplot(x='Antenna',data=df_new)"
   ]
  },
  {
   "cell_type": "code",
   "execution_count": 10,
   "metadata": {},
   "outputs": [
    {
     "data": {
      "text/plain": [
       "Time                      2638\n",
       "Acceleration_frontal         0\n",
       "Acceleration_vertical        0\n",
       "Acceleration_lateral     18796\n",
       "Antenna                      0\n",
       "RSSI                       502\n",
       "Phase                        0\n",
       "Frequency                    0\n",
       "Label                        0\n",
       "dtype: int64"
      ]
     },
     "execution_count": 10,
     "metadata": {},
     "output_type": "execute_result"
    }
   ],
   "source": [
    "q1 = df_new.quantile(0.25)\n",
    "q3 = df_new.quantile(0.75)\n",
    "\n",
    "IQR = q3-q1\n",
    "\n",
    "((df_new < (q1-1.5*IQR)) | (df_new > (q3+1.5*IQR))).sum()"
   ]
  },
  {
   "cell_type": "code",
   "execution_count": 11,
   "metadata": {},
   "outputs": [],
   "source": [
    "columns = ['Time', 'Acceleration_lateral', 'RSSI']\n",
    "for i in columns:\n",
    "    q75,q25 = np.percentile(df_new[i],[75,25])\n",
    "    iqr = q75 - q25\n",
    "    minimum = q25 - 1.5 * iqr\n",
    "    maximum = q75 + 1.5 * iqr\n",
    "    df_new.loc[df_new[i] < minimum, i] = minimum\n",
    "    df_new.loc[df_new[i] > maximum, i] = maximum"
   ]
  },
  {
   "cell_type": "code",
   "execution_count": 12,
   "metadata": {},
   "outputs": [
    {
     "data": {
      "text/plain": [
       "Time                     0\n",
       "Acceleration_frontal     0\n",
       "Acceleration_vertical    0\n",
       "Acceleration_lateral     0\n",
       "Antenna                  0\n",
       "RSSI                     0\n",
       "Phase                    0\n",
       "Frequency                0\n",
       "Label                    0\n",
       "dtype: int64"
      ]
     },
     "execution_count": 12,
     "metadata": {},
     "output_type": "execute_result"
    }
   ],
   "source": [
    "((df_new < (q1-1.5*IQR)) | (df_new > (q3+1.5*IQR))).sum()"
   ]
  },
  {
   "cell_type": "code",
   "execution_count": 13,
   "metadata": {},
   "outputs": [
    {
     "data": {
      "text/plain": [
       "Time                     0.853516\n",
       "Acceleration_frontal    -0.072713\n",
       "Acceleration_vertical    0.481109\n",
       "Acceleration_lateral    -0.488363\n",
       "Antenna                 -0.013201\n",
       "RSSI                     0.198131\n",
       "Phase                    0.013867\n",
       "Frequency                0.230136\n",
       "Label                   -0.960660\n",
       "dtype: float64"
      ]
     },
     "execution_count": 13,
     "metadata": {},
     "output_type": "execute_result"
    }
   ],
   "source": [
    "df_new.skew()"
   ]
  },
  {
   "cell_type": "code",
   "execution_count": 14,
   "metadata": {},
   "outputs": [
    {
     "data": {
      "image/png": "[encoded data removed]",
      "text/plain": [
       "<Figure size 360x360 with 1 Axes>"
      ]
     },
     "metadata": {
      "needs_background": "light"
     },
     "output_type": "display_data"
    },
    {
     "data": {
      "image/png": "[encoded data removed]",
      "text/plain": [
       "<Figure size 360x360 with 1 Axes>"
      ]
     },
     "metadata": {
      "needs_background": "light"
     },
     "output_type": "display_data"
    },
    {
     "data": {
      "image/png": "[encoded data removed]",
      "text/plain": [
       "<Figure size 360x360 with 1 Axes>"
      ]
     },
     "metadata": {
      "needs_background": "light"
     },
     "output_type": "display_data"
    },
    {
     "data": {
      "image/png": "[encoded data removed]",
      "text/plain": [
       "<Figure size 360x360 with 1 Axes>"
      ]
     },
     "metadata": {
      "needs_background": "light"
     },
     "output_type": "display_data"
    },
    {
     "data": {
      "image/png": "[encoded data removed]",
      "text/plain": [
       "<Figure size 360x360 with 1 Axes>"
      ]
     },
     "metadata": {
      "needs_background": "light"
     },
     "output_type": "display_data"
    },
    {
     "data": {
      "image/png": "[encoded data removed]",
      "text/plain": [
       "<Figure size 360x360 with 1 Axes>"
      ]
     },
     "metadata": {
      "needs_background": "light"
     },
     "output_type": "display_data"
    },
    {
     "data": {
      "image/png": "[encoded data removed]",
      "text/plain": [
       "<Figure size 360x360 with 1 Axes>"
      ]
     },
     "metadata": {
      "needs_background": "light"
     },
     "output_type": "display_data"
    },
    {
     "data": {
      "image/png": "[encoded data removed]",
      "text/plain": [
       "<Figure size 360x360 with 1 Axes>"
      ]
     },
     "metadata": {
      "needs_background": "light"
     },
     "output_type": "display_data"
    },
    {
     "data": {
      "image/png": "[encoded data removed]",
      "text/plain": [
       "<Figure size 360x360 with 1 Axes>"
      ]
     },
     "metadata": {
      "needs_background": "light"
     },
     "output_type": "display_data"
    }
   ],
   "source": [
    "for i in df_new.columns:\n",
    "    sns.displot(data=df_new,x=i,kde=True)"
   ]
  },
  {
   "cell_type": "code",
   "execution_count": 15,
   "metadata": {},
   "outputs": [
    {
     "data": {
      "text/plain": [
       "3    51518\n",
       "1    16406\n",
       "2     4911\n",
       "4     2291\n",
       "Name: Label, dtype: int64"
      ]
     },
     "execution_count": 15,
     "metadata": {},
     "output_type": "execute_result"
    }
   ],
   "source": [
    "df_new['Label'].value_counts()"
   ]
  },
  {
   "cell_type": "code",
   "execution_count": 16,
   "metadata": {},
   "outputs": [
    {
     "data": {
      "text/html": [
       "<div>\n",
       "<style scoped>\n",
       "    .dataframe tbody tr th:only-of-type {\n",
       "        vertical-align: middle;\n",
       "    }\n",
       "\n",
       "    .dataframe tbody tr th {\n",
       "        vertical-align: top;\n",
       "    }\n",
       "\n",
       "    .dataframe thead th {\n",
       "        text-align: right;\n",
       "    }\n",
       "</style>\n",
       "<table border=\"1\" class=\"dataframe\">\n",
       "  <thead>\n",
       "    <tr style=\"text-align: right;\">\n",
       "      <th></th>\n",
       "      <th>Time</th>\n",
       "      <th>Acceleration_frontal</th>\n",
       "      <th>Acceleration_vertical</th>\n",
       "      <th>Acceleration_lateral</th>\n",
       "      <th>Antenna</th>\n",
       "      <th>RSSI</th>\n",
       "      <th>Phase</th>\n",
       "      <th>Frequency</th>\n",
       "    </tr>\n",
       "  </thead>\n",
       "  <tbody>\n",
       "    <tr>\n",
       "      <th>0</th>\n",
       "      <td>0.00</td>\n",
       "      <td>0.27203</td>\n",
       "      <td>1.00820</td>\n",
       "      <td>-0.082102</td>\n",
       "      <td>1</td>\n",
       "      <td>-63.5</td>\n",
       "      <td>2.4252</td>\n",
       "      <td>924.25</td>\n",
       "    </tr>\n",
       "    <tr>\n",
       "      <th>1</th>\n",
       "      <td>0.50</td>\n",
       "      <td>0.27203</td>\n",
       "      <td>1.00820</td>\n",
       "      <td>-0.082102</td>\n",
       "      <td>1</td>\n",
       "      <td>-63.0</td>\n",
       "      <td>4.7369</td>\n",
       "      <td>921.75</td>\n",
       "    </tr>\n",
       "    <tr>\n",
       "      <th>2</th>\n",
       "      <td>1.50</td>\n",
       "      <td>0.44791</td>\n",
       "      <td>0.91636</td>\n",
       "      <td>-0.013684</td>\n",
       "      <td>1</td>\n",
       "      <td>-63.5</td>\n",
       "      <td>3.0311</td>\n",
       "      <td>923.75</td>\n",
       "    </tr>\n",
       "    <tr>\n",
       "      <th>3</th>\n",
       "      <td>1.75</td>\n",
       "      <td>0.44791</td>\n",
       "      <td>0.91636</td>\n",
       "      <td>-0.013684</td>\n",
       "      <td>1</td>\n",
       "      <td>-63.0</td>\n",
       "      <td>2.0371</td>\n",
       "      <td>921.25</td>\n",
       "    </tr>\n",
       "    <tr>\n",
       "      <th>4</th>\n",
       "      <td>2.50</td>\n",
       "      <td>0.34238</td>\n",
       "      <td>0.96229</td>\n",
       "      <td>-0.059296</td>\n",
       "      <td>1</td>\n",
       "      <td>-63.5</td>\n",
       "      <td>5.8920</td>\n",
       "      <td>920.25</td>\n",
       "    </tr>\n",
       "  </tbody>\n",
       "</table>\n",
       "</div>"
      ],
      "text/plain": [
       "   Time  Acceleration_frontal  Acceleration_vertical  Acceleration_lateral  \\\n",
       "0  0.00               0.27203                1.00820             -0.082102   \n",
       "1  0.50               0.27203                1.00820             -0.082102   \n",
       "2  1.50               0.44791                0.91636             -0.013684   \n",
       "3  1.75               0.44791                0.91636             -0.013684   \n",
       "4  2.50               0.34238                0.96229             -0.059296   \n",
       "\n",
       "   Antenna  RSSI   Phase  Frequency  \n",
       "0        1 -63.5  2.4252     924.25  \n",
       "1        1 -63.0  4.7369     921.75  \n",
       "2        1 -63.5  3.0311     923.75  \n",
       "3        1 -63.0  2.0371     921.25  \n",
       "4        1 -63.5  5.8920     920.25  "
      ]
     },
     "execution_count": 16,
     "metadata": {},
     "output_type": "execute_result"
    }
   ],
   "source": [
    "scaling_feature = [feature for feature in df_new.columns if feature not in ['Label']]\n",
    "df_new[scaling_feature].head()"
   ]
  },
  {
   "cell_type": "code",
   "execution_count": 17,
   "metadata": {},
   "outputs": [
    {
     "data": {
      "text/plain": [
       "StandardScaler()"
      ]
     },
     "execution_count": 17,
     "metadata": {},
     "output_type": "execute_result"
    }
   ],
   "source": [
    "scaler = StandardScaler()\n",
    "scaler.fit(df_new[scaling_feature])"
   ]
  },
  {
   "cell_type": "code",
   "execution_count": 18,
   "metadata": {},
   "outputs": [
    {
     "data": {
      "text/plain": [
       "array([[-1.37911471, -1.09295873,  1.58216986, ..., -1.01300863,\n",
       "        -0.33546178,  0.94064667],\n",
       "       [-1.3767015 , -1.09295873,  1.58216986, ..., -0.91580122,\n",
       "         0.72385252, -0.54825241],\n",
       "       [-1.37187509, -0.65823897,  1.36300402, ..., -1.01300863,\n",
       "        -0.05781393,  0.64286685],\n",
       "       ...,\n",
       "       [ 0.80001362, -0.71619995,  1.36300402, ...,  1.02834681,\n",
       "         1.17233238, -0.2504726 ],\n",
       "       [ 0.80039973, -0.71619995,  1.36300402, ...,  1.22276161,\n",
       "         1.25600707, -0.2504726 ],\n",
       "       [ 0.80363343, -0.31044833,  1.25337337, ..., -0.33255681,\n",
       "         1.16669602,  1.83398611]])"
      ]
     },
     "execution_count": 18,
     "metadata": {},
     "output_type": "execute_result"
    }
   ],
   "source": [
    "scaler.transform(df_new[scaling_feature])"
   ]
  },
  {
   "cell_type": "code",
   "execution_count": 19,
   "metadata": {},
   "outputs": [
    {
     "data": {
      "text/html": [
       "<div>\n",
       "<style scoped>\n",
       "    .dataframe tbody tr th:only-of-type {\n",
       "        vertical-align: middle;\n",
       "    }\n",
       "\n",
       "    .dataframe tbody tr th {\n",
       "        vertical-align: top;\n",
       "    }\n",
       "\n",
       "    .dataframe thead th {\n",
       "        text-align: right;\n",
       "    }\n",
       "</style>\n",
       "<table border=\"1\" class=\"dataframe\">\n",
       "  <thead>\n",
       "    <tr style=\"text-align: right;\">\n",
       "      <th></th>\n",
       "      <th>Time</th>\n",
       "      <th>Acceleration_frontal</th>\n",
       "      <th>Acceleration_vertical</th>\n",
       "      <th>Acceleration_lateral</th>\n",
       "      <th>Antenna</th>\n",
       "      <th>RSSI</th>\n",
       "      <th>Phase</th>\n",
       "      <th>Frequency</th>\n",
       "    </tr>\n",
       "  </thead>\n",
       "  <tbody>\n",
       "    <tr>\n",
       "      <th>0</th>\n",
       "      <td>-1.379115</td>\n",
       "      <td>-1.092959</td>\n",
       "      <td>1.582170</td>\n",
       "      <td>0.168314</td>\n",
       "      <td>-1.278914</td>\n",
       "      <td>-1.013009</td>\n",
       "      <td>-0.335462</td>\n",
       "      <td>0.940647</td>\n",
       "    </tr>\n",
       "    <tr>\n",
       "      <th>1</th>\n",
       "      <td>-1.376702</td>\n",
       "      <td>-1.092959</td>\n",
       "      <td>1.582170</td>\n",
       "      <td>0.168314</td>\n",
       "      <td>-1.278914</td>\n",
       "      <td>-0.915801</td>\n",
       "      <td>0.723853</td>\n",
       "      <td>-0.548252</td>\n",
       "    </tr>\n",
       "    <tr>\n",
       "      <th>2</th>\n",
       "      <td>-1.371875</td>\n",
       "      <td>-0.658239</td>\n",
       "      <td>1.363004</td>\n",
       "      <td>0.457582</td>\n",
       "      <td>-1.278914</td>\n",
       "      <td>-1.013009</td>\n",
       "      <td>-0.057814</td>\n",
       "      <td>0.642867</td>\n",
       "    </tr>\n",
       "    <tr>\n",
       "      <th>3</th>\n",
       "      <td>-1.370668</td>\n",
       "      <td>-0.658239</td>\n",
       "      <td>1.363004</td>\n",
       "      <td>0.457582</td>\n",
       "      <td>-1.278914</td>\n",
       "      <td>-0.915801</td>\n",
       "      <td>-0.513305</td>\n",
       "      <td>-0.846032</td>\n",
       "    </tr>\n",
       "    <tr>\n",
       "      <th>4</th>\n",
       "      <td>-1.367049</td>\n",
       "      <td>-0.919076</td>\n",
       "      <td>1.472611</td>\n",
       "      <td>0.264737</td>\n",
       "      <td>-1.278914</td>\n",
       "      <td>-1.013009</td>\n",
       "      <td>1.253166</td>\n",
       "      <td>-1.441592</td>\n",
       "    </tr>\n",
       "  </tbody>\n",
       "</table>\n",
       "</div>"
      ],
      "text/plain": [
       "       Time  Acceleration_frontal  Acceleration_vertical  \\\n",
       "0 -1.379115             -1.092959               1.582170   \n",
       "1 -1.376702             -1.092959               1.582170   \n",
       "2 -1.371875             -0.658239               1.363004   \n",
       "3 -1.370668             -0.658239               1.363004   \n",
       "4 -1.367049             -0.919076               1.472611   \n",
       "\n",
       "   Acceleration_lateral   Antenna      RSSI     Phase  Frequency  \n",
       "0              0.168314 -1.278914 -1.013009 -0.335462   0.940647  \n",
       "1              0.168314 -1.278914 -0.915801  0.723853  -0.548252  \n",
       "2              0.457582 -1.278914 -1.013009 -0.057814   0.642867  \n",
       "3              0.457582 -1.278914 -0.915801 -0.513305  -0.846032  \n",
       "4              0.264737 -1.278914 -1.013009  1.253166  -1.441592  "
      ]
     },
     "execution_count": 19,
     "metadata": {},
     "output_type": "execute_result"
    }
   ],
   "source": [
    "df2 = pd.DataFrame(scaler.transform(df_new[scaling_feature]),columns=df_new[scaling_feature].columns)\n",
    "df2.head()"
   ]
  },
  {
   "cell_type": "code",
   "execution_count": 20,
   "metadata": {},
   "outputs": [
    {
     "data": {
      "text/html": [
       "<div>\n",
       "<style scoped>\n",
       "    .dataframe tbody tr th:only-of-type {\n",
       "        vertical-align: middle;\n",
       "    }\n",
       "\n",
       "    .dataframe tbody tr th {\n",
       "        vertical-align: top;\n",
       "    }\n",
       "\n",
       "    .dataframe thead th {\n",
       "        text-align: right;\n",
       "    }\n",
       "</style>\n",
       "<table border=\"1\" class=\"dataframe\">\n",
       "  <thead>\n",
       "    <tr style=\"text-align: right;\">\n",
       "      <th></th>\n",
       "      <th>Label</th>\n",
       "      <th>Time</th>\n",
       "      <th>Acceleration_frontal</th>\n",
       "      <th>Acceleration_vertical</th>\n",
       "      <th>Acceleration_lateral</th>\n",
       "      <th>Antenna</th>\n",
       "      <th>RSSI</th>\n",
       "      <th>Phase</th>\n",
       "      <th>Frequency</th>\n",
       "    </tr>\n",
       "  </thead>\n",
       "  <tbody>\n",
       "    <tr>\n",
       "      <th>0</th>\n",
       "      <td>1</td>\n",
       "      <td>-1.379115</td>\n",
       "      <td>-1.092959</td>\n",
       "      <td>1.582170</td>\n",
       "      <td>0.168314</td>\n",
       "      <td>-1.278914</td>\n",
       "      <td>-1.013009</td>\n",
       "      <td>-0.335462</td>\n",
       "      <td>0.940647</td>\n",
       "    </tr>\n",
       "    <tr>\n",
       "      <th>1</th>\n",
       "      <td>1</td>\n",
       "      <td>-1.376702</td>\n",
       "      <td>-1.092959</td>\n",
       "      <td>1.582170</td>\n",
       "      <td>0.168314</td>\n",
       "      <td>-1.278914</td>\n",
       "      <td>-0.915801</td>\n",
       "      <td>0.723853</td>\n",
       "      <td>-0.548252</td>\n",
       "    </tr>\n",
       "    <tr>\n",
       "      <th>2</th>\n",
       "      <td>1</td>\n",
       "      <td>-1.371875</td>\n",
       "      <td>-0.658239</td>\n",
       "      <td>1.363004</td>\n",
       "      <td>0.457582</td>\n",
       "      <td>-1.278914</td>\n",
       "      <td>-1.013009</td>\n",
       "      <td>-0.057814</td>\n",
       "      <td>0.642867</td>\n",
       "    </tr>\n",
       "    <tr>\n",
       "      <th>3</th>\n",
       "      <td>1</td>\n",
       "      <td>-1.370668</td>\n",
       "      <td>-0.658239</td>\n",
       "      <td>1.363004</td>\n",
       "      <td>0.457582</td>\n",
       "      <td>-1.278914</td>\n",
       "      <td>-0.915801</td>\n",
       "      <td>-0.513305</td>\n",
       "      <td>-0.846032</td>\n",
       "    </tr>\n",
       "    <tr>\n",
       "      <th>4</th>\n",
       "      <td>1</td>\n",
       "      <td>-1.367049</td>\n",
       "      <td>-0.919076</td>\n",
       "      <td>1.472611</td>\n",
       "      <td>0.264737</td>\n",
       "      <td>-1.278914</td>\n",
       "      <td>-1.013009</td>\n",
       "      <td>1.253166</td>\n",
       "      <td>-1.441592</td>\n",
       "    </tr>\n",
       "  </tbody>\n",
       "</table>\n",
       "</div>"
      ],
      "text/plain": [
       "   Label      Time  Acceleration_frontal  Acceleration_vertical  \\\n",
       "0      1 -1.379115             -1.092959               1.582170   \n",
       "1      1 -1.376702             -1.092959               1.582170   \n",
       "2      1 -1.371875             -0.658239               1.363004   \n",
       "3      1 -1.370668             -0.658239               1.363004   \n",
       "4      1 -1.367049             -0.919076               1.472611   \n",
       "\n",
       "   Acceleration_lateral   Antenna      RSSI     Phase  Frequency  \n",
       "0              0.168314 -1.278914 -1.013009 -0.335462   0.940647  \n",
       "1              0.168314 -1.278914 -0.915801  0.723853  -0.548252  \n",
       "2              0.457582 -1.278914 -1.013009 -0.057814   0.642867  \n",
       "3              0.457582 -1.278914 -0.915801 -0.513305  -0.846032  \n",
       "4              0.264737 -1.278914 -1.013009  1.253166  -1.441592  "
      ]
     },
     "execution_count": 20,
     "metadata": {},
     "output_type": "execute_result"
    }
   ],
   "source": [
    "data = pd.concat([df_new[['Label']].reset_index(drop=True), df2],axis=1)\n",
    "data.head()"
   ]
  },
  {
   "cell_type": "code",
   "execution_count": 21,
   "metadata": {},
   "outputs": [
    {
     "data": {
      "text/plain": [
       "Label                    0\n",
       "Time                     0\n",
       "Acceleration_frontal     0\n",
       "Acceleration_vertical    0\n",
       "Acceleration_lateral     0\n",
       "Antenna                  0\n",
       "RSSI                     0\n",
       "Phase                    0\n",
       "Frequency                0\n",
       "dtype: int64"
      ]
     },
     "execution_count": 21,
     "metadata": {},
     "output_type": "execute_result"
    }
   ],
   "source": [
    "data.isnull().sum()"
   ]
  },
  {
   "cell_type": "code",
   "execution_count": 22,
   "metadata": {},
   "outputs": [],
   "source": [
    "file = 'Scaler.pkl'\n",
    "\n",
    "pickle.dump(scaler,open(file,'wb'))"
   ]
  },
  {
   "cell_type": "code",
   "execution_count": 23,
   "metadata": {},
   "outputs": [],
   "source": [
    "data.to_csv('Datasets_Healthy_Older_People/Final_data.csv')"
   ]
  },
  {
   "cell_type": "code",
   "execution_count": null,
   "metadata": {},
   "outputs": [],
   "source": []
  }
 ],
 "metadata": {
  "kernelspec": {
   "display_name": "Python 3",
   "language": "python",
   "name": "python3"
  },
  "language_info": {
   "codemirror_mode": {
    "name": "ipython",
    "version": 3
   },
   "file_extension": ".py",
   "mimetype": "text/x-python",
   "name": "python",
   "nbconvert_exporter": "python",
   "pygments_lexer": "ipython3",
   "version": "3.8.5"
  }
 },
 "nbformat": 4,
 "nbformat_minor": 4
}
